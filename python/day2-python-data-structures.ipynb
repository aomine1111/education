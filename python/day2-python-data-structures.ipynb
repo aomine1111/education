{
 "cells": [
  {
   "cell_type": "markdown",
   "metadata": {},
   "source": [
    "**Python Data Types**  By: Punith V T"
   ]
  },
  {
   "cell_type": "markdown",
   "metadata": {},
   "source": [
    "43"
   ]
  },
  {
   "cell_type": "code",
   "execution_count": null,
   "metadata": {},
   "outputs": [],
   "source": [
    "a = 1\n",
    "b = 2\n",
    "a + b"
   ]
  },
  {
   "cell_type": "markdown",
   "metadata": {},
   "source": [
    "**List** It is ordered of similar or different type of items seperated by commas and enclosed within square brackets[]"
   ]
  },
  {
   "cell_type": "code",
   "execution_count": 5,
   "metadata": {
    "execution": {
     "iopub.execute_input": "2024-01-26T09:59:59.746239Z",
     "iopub.status.busy": "2024-01-26T09:59:59.745507Z",
     "iopub.status.idle": "2024-01-26T09:59:59.753218Z",
     "shell.execute_reply": "2024-01-26T09:59:59.752127Z",
     "shell.execute_reply.started": "2024-01-26T09:59:59.746127Z"
    },
    "trusted": true
   },
   "outputs": [
    {
     "name": "stdout",
     "output_type": "stream",
     "text": [
      "honda\n",
      "<class 'list'>\n"
     ]
    }
   ],
   "source": [
    "bike=[\"hero\",\"honda\",\"duke\"]\n",
    "print(bike[1])\n",
    "print(type(bike))"
   ]
  },
  {
   "cell_type": "markdown",
   "metadata": {},
   "source": [
    "**Append:** append() adds an element at the end of the list"
   ]
  },
  {
   "cell_type": "code",
   "execution_count": 6,
   "metadata": {
    "execution": {
     "iopub.execute_input": "2024-01-26T09:59:59.755965Z",
     "iopub.status.busy": "2024-01-26T09:59:59.755233Z",
     "iopub.status.idle": "2024-01-26T09:59:59.772562Z",
     "shell.execute_reply": "2024-01-26T09:59:59.771448Z",
     "shell.execute_reply.started": "2024-01-26T09:59:59.755926Z"
    },
    "trusted": true
   },
   "outputs": [
    {
     "data": {
      "text/plain": [
       "[1, 2, 3, 4, 5, 7, [8, 9], 10, 0]"
      ]
     },
     "execution_count": 6,
     "metadata": {},
     "output_type": "execute_result"
    }
   ],
   "source": [
    "sample=[1,2,3,4,5]\n",
    "sample.append(7)\n",
    "sample.append([8,9])\n",
    "sample.extend([10,0])\n",
    "sample"
   ]
  },
  {
   "cell_type": "markdown",
   "metadata": {},
   "source": [
    "**Slicing**"
   ]
  },
  {
   "cell_type": "code",
   "execution_count": 7,
   "metadata": {
    "execution": {
     "iopub.execute_input": "2024-01-26T09:59:59.775121Z",
     "iopub.status.busy": "2024-01-26T09:59:59.774653Z",
     "iopub.status.idle": "2024-01-26T09:59:59.789051Z",
     "shell.execute_reply": "2024-01-26T09:59:59.787294Z",
     "shell.execute_reply.started": "2024-01-26T09:59:59.775086Z"
    },
    "trusted": true
   },
   "outputs": [
    {
     "name": "stdout",
     "output_type": "stream",
     "text": [
      "[1, 2, 3, 4]\n",
      "[1, 2, 3, 4, 5, 7, [8, 9], 10, 0]\n",
      "[0, 10, [8, 9], 7, 5, 4, 3, 2, 1]\n",
      "[0]\n"
     ]
    }
   ],
   "source": [
    "print(sample[0:4])\n",
    "print(sample[::])\n",
    "print(sample[::-1])\n",
    "print(sample[-1::])"
   ]
  },
  {
   "cell_type": "markdown",
   "metadata": {},
   "source": [
    "**Deleting element in the list**"
   ]
  },
  {
   "cell_type": "code",
   "execution_count": 8,
   "metadata": {
    "execution": {
     "iopub.execute_input": "2024-01-26T09:59:59.794000Z",
     "iopub.status.busy": "2024-01-26T09:59:59.793347Z",
     "iopub.status.idle": "2024-01-26T09:59:59.806107Z",
     "shell.execute_reply": "2024-01-26T09:59:59.804748Z",
     "shell.execute_reply.started": "2024-01-26T09:59:59.793945Z"
    },
    "trusted": true
   },
   "outputs": [
    {
     "name": "stdout",
     "output_type": "stream",
     "text": [
      "3\n",
      "[1, 2, 4, 5, 7, [8, 9], 10, 0]\n",
      "[1, 2, 4, 5, 7, [8, 9], 10]\n",
      "[]\n"
     ]
    }
   ],
   "source": [
    "print(sample.pop(2))\n",
    "print(sample)\n",
    "sample.remove(0)\n",
    "print(sample)\n",
    "sample.clear()\n",
    "print(sample)"
   ]
  },
  {
   "cell_type": "markdown",
   "metadata": {},
   "source": [
    "**Tuple:** A tuple is a collection of object that ordered ond immutable "
   ]
  },
  {
   "cell_type": "code",
   "execution_count": 10,
   "metadata": {
    "execution": {
     "iopub.execute_input": "2024-01-26T10:19:43.868142Z",
     "iopub.status.busy": "2024-01-26T10:19:43.867614Z",
     "iopub.status.idle": "2024-01-26T10:19:43.877749Z",
     "shell.execute_reply": "2024-01-26T10:19:43.876334Z",
     "shell.execute_reply.started": "2024-01-26T10:19:43.868104Z"
    },
    "trusted": true
   },
   "outputs": [
    {
     "name": "stdout",
     "output_type": "stream",
     "text": [
      "()\n",
      "(10, 20, 30)\n",
      "(1, 'Hello', 3.4)\n",
      "('nested', [8, 4, 6], (1, 2, 3))\n"
     ]
    }
   ],
   "source": [
    "#different type ao tupple\n",
    "# Empty tuple\n",
    "tuple = ()\n",
    "print(tuple)\n",
    "\n",
    "# integers\n",
    "tuple = (10, 20, 30)\n",
    "print(tuple)\n",
    "\n",
    "# mixed datatypes\n",
    "tuple = (1, \"Hello\", 3.4)\n",
    "print(tuple)\n",
    "\n",
    "# nested tuple\n",
    "tuple = (\"nested\", [8, 4, 6], (1, 2, 3))\n",
    "print(tuple)"
   ]
  },
  {
   "cell_type": "markdown",
   "metadata": {},
   "source": [
    "**Slicing**"
   ]
  },
  {
   "cell_type": "code",
   "execution_count": 11,
   "metadata": {
    "execution": {
     "iopub.execute_input": "2024-01-26T10:25:18.161158Z",
     "iopub.status.busy": "2024-01-26T10:25:18.160718Z",
     "iopub.status.idle": "2024-01-26T10:25:18.168157Z",
     "shell.execute_reply": "2024-01-26T10:25:18.166804Z",
     "shell.execute_reply.started": "2024-01-26T10:25:18.161126Z"
    },
    "trusted": true
   },
   "outputs": [
    {
     "name": "stdout",
     "output_type": "stream",
     "text": [
      "(2, 3, 4)\n",
      "(1, 2)\n",
      "(8, 9)\n",
      "(1, 2, 3, 4, 5, 6, 7, 8, 9)\n"
     ]
    }
   ],
   "source": [
    "#accessing\n",
    "tuple=(1,2,3,4,5,6,7,8,9)\n",
    "print(tuple[1:4])\n",
    "print(tuple[:-7])\n",
    "print(tuple[7:])\n",
    "print(tuple[::])"
   ]
  },
  {
   "cell_type": "code",
   "execution_count": 14,
   "metadata": {
    "execution": {
     "iopub.execute_input": "2024-01-26T10:27:21.127677Z",
     "iopub.status.busy": "2024-01-26T10:27:21.127285Z",
     "iopub.status.idle": "2024-01-26T10:27:21.134013Z",
     "shell.execute_reply": "2024-01-26T10:27:21.132633Z",
     "shell.execute_reply.started": "2024-01-26T10:27:21.127646Z"
    },
    "trusted": true
   },
   "outputs": [
    {
     "name": "stdout",
     "output_type": "stream",
     "text": [
      "1\n",
      "2\n",
      "3\n",
      "4\n",
      "5\n",
      "6\n",
      "7\n",
      "8\n",
      "9\n"
     ]
    }
   ],
   "source": [
    "#iterating through tuple\n",
    "for i in tuple:\n",
    "    print(i)"
   ]
  },
  {
   "cell_type": "markdown",
   "metadata": {},
   "source": [
    "**Sets:** "
   ]
  },
  {
   "cell_type": "markdown",
   "metadata": {},
   "source": [
    "note: Empty curly braces { } will make an empty dictionary in Python."
   ]
  },
  {
   "cell_type": "code",
   "execution_count": 15,
   "metadata": {
    "execution": {
     "iopub.execute_input": "2024-01-26T10:29:30.938169Z",
     "iopub.status.busy": "2024-01-26T10:29:30.936785Z",
     "iopub.status.idle": "2024-01-26T10:29:30.946206Z",
     "shell.execute_reply": "2024-01-26T10:29:30.944754Z",
     "shell.execute_reply.started": "2024-01-26T10:29:30.938113Z"
    },
    "trusted": true
   },
   "outputs": [
    {
     "name": "stdout",
     "output_type": "stream",
     "text": [
      "<class 'set'>\n",
      "{1, 2, 3, 4, 5}\n"
     ]
    }
   ],
   "source": [
    "num={1,2,3,4,5}\n",
    "print(type(num))\n",
    "print(num)"
   ]
  },
  {
   "cell_type": "code",
   "execution_count": 17,
   "metadata": {
    "execution": {
     "iopub.execute_input": "2024-01-26T10:31:34.440769Z",
     "iopub.status.busy": "2024-01-26T10:31:34.440372Z",
     "iopub.status.idle": "2024-01-26T10:31:34.447330Z",
     "shell.execute_reply": "2024-01-26T10:31:34.446205Z",
     "shell.execute_reply.started": "2024-01-26T10:31:34.440739Z"
    },
    "trusted": true
   },
   "outputs": [
    {
     "name": "stdout",
     "output_type": "stream",
     "text": [
      "before {1, 2, 3, 4, 5}\n",
      "after {1, 2, 3, 4, 5, 6}\n"
     ]
    }
   ],
   "source": [
    "print(\"before\",num)\n",
    "num.add(6)\n",
    "print(\"after\",num)"
   ]
  },
  {
   "cell_type": "code",
   "execution_count": 18,
   "metadata": {
    "execution": {
     "iopub.execute_input": "2024-01-26T10:33:21.252937Z",
     "iopub.status.busy": "2024-01-26T10:33:21.252036Z",
     "iopub.status.idle": "2024-01-26T10:33:21.260782Z",
     "shell.execute_reply": "2024-01-26T10:33:21.259423Z",
     "shell.execute_reply.started": "2024-01-26T10:33:21.252886Z"
    },
    "trusted": true
   },
   "outputs": [
    {
     "name": "stdout",
     "output_type": "stream",
     "text": [
      "before {'Java', 'react', 'Python'}\n",
      "after {'react', 'Python'}\n"
     ]
    }
   ],
   "source": [
    "lang={\"react\",\"Java\",\"Python\"}\n",
    "print(\"before\",lang)\n",
    "lang.remove(\"Java\") #we can also use discard\n",
    "print(\"after\",lang)"
   ]
  },
  {
   "cell_type": "code",
   "execution_count": 20,
   "metadata": {
    "execution": {
     "iopub.execute_input": "2024-01-26T10:34:43.640136Z",
     "iopub.status.busy": "2024-01-26T10:34:43.639454Z",
     "iopub.status.idle": "2024-01-26T10:34:43.648134Z",
     "shell.execute_reply": "2024-01-26T10:34:43.646895Z",
     "shell.execute_reply.started": "2024-01-26T10:34:43.640093Z"
    },
    "trusted": true
   },
   "outputs": [
    {
     "name": "stdout",
     "output_type": "stream",
     "text": [
      "4\n"
     ]
    }
   ],
   "source": [
    "\n",
    "num = {2, 4, 6, 6, 2, 8} # doesnt allow duplicate values\n",
    "print(len(num))"
   ]
  },
  {
   "cell_type": "markdown",
   "metadata": {},
   "source": [
    "**Intersection and union**"
   ]
  },
  {
   "cell_type": "code",
   "execution_count": 26,
   "metadata": {
    "execution": {
     "iopub.execute_input": "2024-01-26T10:37:41.141468Z",
     "iopub.status.busy": "2024-01-26T10:37:41.140220Z",
     "iopub.status.idle": "2024-01-26T10:37:41.149731Z",
     "shell.execute_reply": "2024-01-26T10:37:41.148414Z",
     "shell.execute_reply.started": "2024-01-26T10:37:41.141373Z"
    },
    "trusted": true
   },
   "outputs": [
    {
     "name": "stdout",
     "output_type": "stream",
     "text": [
      "using &: {5}\n",
      "using intersection(): {1, 3}\n"
     ]
    }
   ],
   "source": [
    "\n",
    "A = {1, 3, 5}\n",
    "B = {1, 2, 3}\n",
    "print('using &:', A & B)\n",
    "print('using intersection():', A.intersection(B))"
   ]
  },
  {
   "cell_type": "code",
   "execution_count": 27,
   "metadata": {
    "execution": {
     "iopub.execute_input": "2024-01-26T10:43:42.620432Z",
     "iopub.status.busy": "2024-01-26T10:43:42.620002Z",
     "iopub.status.idle": "2024-01-26T10:43:42.628804Z",
     "shell.execute_reply": "2024-01-26T10:43:42.627229Z",
     "shell.execute_reply.started": "2024-01-26T10:43:42.620398Z"
    },
    "trusted": true
   },
   "outputs": [
    {
     "name": "stdout",
     "output_type": "stream",
     "text": [
      "using &: {1, 2, 3, 5}\n",
      "using union(): {1, 2, 3, 5}\n"
     ]
    }
   ],
   "source": [
    "A = {1, 3, 5}\n",
    "B = {1, 2, 3}\n",
    "print('using &:', A | B)\n",
    "print('using union():', A.union(B))"
   ]
  },
  {
   "cell_type": "code",
   "execution_count": 28,
   "metadata": {
    "execution": {
     "iopub.execute_input": "2024-01-26T10:44:26.583077Z",
     "iopub.status.busy": "2024-01-26T10:44:26.581686Z",
     "iopub.status.idle": "2024-01-26T10:44:26.589611Z",
     "shell.execute_reply": "2024-01-26T10:44:26.588442Z",
     "shell.execute_reply.started": "2024-01-26T10:44:26.583026Z"
    },
    "trusted": true
   },
   "outputs": [
    {
     "name": "stdout",
     "output_type": "stream",
     "text": [
      "using &: {5}\n",
      "using difference(): {5}\n"
     ]
    }
   ],
   "source": [
    "A = {1, 3, 5}\n",
    "B = {1, 2, 3}\n",
    "print('using &:', A - B)\n",
    "print('using difference():', A.difference(B))"
   ]
  },
  {
   "cell_type": "markdown",
   "metadata": {},
   "source": [
    "**Dictionary**"
   ]
  },
  {
   "cell_type": "code",
   "execution_count": 37,
   "metadata": {
    "execution": {
     "iopub.execute_input": "2024-01-26T10:47:59.249723Z",
     "iopub.status.busy": "2024-01-26T10:47:59.249274Z",
     "iopub.status.idle": "2024-01-26T10:47:59.256681Z",
     "shell.execute_reply": "2024-01-26T10:47:59.255697Z",
     "shell.execute_reply.started": "2024-01-26T10:47:59.249690Z"
    },
    "trusted": true
   },
   "outputs": [
    {
     "name": "stdout",
     "output_type": "stream",
     "text": [
      "<class 'dict'>\n",
      "{'a': 1, 'b': 2, 'c': 3}\n",
      "2\n"
     ]
    }
   ],
   "source": [
    "dict={\"a\":1,\"b\":2,\"c\":3}\n",
    "print(type(dict))\n",
    "print(dict)\n",
    "print(dict[\"b\"])"
   ]
  },
  {
   "cell_type": "code",
   "execution_count": 38,
   "metadata": {
    "execution": {
     "iopub.execute_input": "2024-01-26T10:49:14.196305Z",
     "iopub.status.busy": "2024-01-26T10:49:14.195780Z",
     "iopub.status.idle": "2024-01-26T10:49:14.203698Z",
     "shell.execute_reply": "2024-01-26T10:49:14.202225Z",
     "shell.execute_reply.started": "2024-01-26T10:49:14.196268Z"
    },
    "trusted": true
   },
   "outputs": [
    {
     "name": "stdout",
     "output_type": "stream",
     "text": [
      "dict_items([('a', 1), ('b', 2), ('c', 3)])\n",
      "dict_keys(['a', 'b', 'c'])\n",
      "dict_values([1, 2, 3])\n"
     ]
    }
   ],
   "source": [
    "print(dict.items())\n",
    "print(dict.keys())\n",
    "print(dict.values())"
   ]
  },
  {
   "cell_type": "code",
   "execution_count": null,
   "metadata": {},
   "outputs": [],
   "source": []
  }
 ],
 "metadata": {
  "kaggle": {
   "accelerator": "none",
   "dataSources": [],
   "dockerImageVersionId": 30635,
   "isGpuEnabled": false,
   "isInternetEnabled": false,
   "language": "python",
   "sourceType": "notebook"
  },
  "kernelspec": {
   "display_name": "Python 3",
   "language": "python",
   "name": "python3"
  },
  "language_info": {
   "codemirror_mode": {
    "name": "ipython",
    "version": 3
   },
   "file_extension": ".py",
   "mimetype": "text/x-python",
   "name": "python",
   "nbconvert_exporter": "python",
   "pygments_lexer": "ipython3",
   "version": "3.10.12"
  }
 },
 "nbformat": 4,
 "nbformat_minor": 4
}
