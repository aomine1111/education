{
 "cells": [
  {
   "cell_type": "markdown",
   "metadata": {
    "_cell_guid": "b1076dfc-b9ad-4769-8c92-a6c4dae69d19",
    "_uuid": "8f2839f25d086af736a60e9eeb907d3b93b6e0e5"
   },
   "source": [
    "**NumPy** --by Punith V T"
   ]
  },
  {
   "cell_type": "markdown",
   "metadata": {},
   "source": [
    "NumPy is a Python library used for working with arrays\n",
    "\n",
    "It also has functions for working in domain of linear algebra, fourier transform, and matrices."
   ]
  },
  {
   "cell_type": "code",
   "execution_count": null,
   "metadata": {
    "execution": {
     "iopub.execute_input": "2024-01-30T12:02:37.102878Z",
     "iopub.status.busy": "2024-01-30T12:02:37.102487Z",
     "iopub.status.idle": "2024-01-30T12:02:37.108029Z",
     "shell.execute_reply": "2024-01-30T12:02:37.106681Z",
     "shell.execute_reply.started": "2024-01-30T12:02:37.102847Z"
    },
    "trusted": true
   },
   "outputs": [],
   "source": [
    "qimport numpy as np"
   ]
  },
  {
   "cell_type": "code",
   "execution_count": 29,
   "metadata": {
    "execution": {
     "iopub.execute_input": "2024-01-30T12:02:37.110458Z",
     "iopub.status.busy": "2024-01-30T12:02:37.110137Z",
     "iopub.status.idle": "2024-01-30T12:02:37.122840Z",
     "shell.execute_reply": "2024-01-30T12:02:37.122058Z",
     "shell.execute_reply.started": "2024-01-30T12:02:37.110432Z"
    },
    "trusted": true
   },
   "outputs": [
    {
     "name": "stdout",
     "output_type": "stream",
     "text": [
      "<module 'numpy.version' from '/opt/conda/lib/python3.10/site-packages/numpy/version.py'>\n"
     ]
    }
   ],
   "source": [
    "print(np.version)"
   ]
  },
  {
   "cell_type": "markdown",
   "metadata": {},
   "source": [
    "**Creating Array**"
   ]
  },
  {
   "cell_type": "code",
   "execution_count": 30,
   "metadata": {
    "execution": {
     "iopub.execute_input": "2024-01-30T12:02:37.125384Z",
     "iopub.status.busy": "2024-01-30T12:02:37.124742Z",
     "iopub.status.idle": "2024-01-30T12:02:37.136648Z",
     "shell.execute_reply": "2024-01-30T12:02:37.135486Z",
     "shell.execute_reply.started": "2024-01-30T12:02:37.125352Z"
    },
    "trusted": true
   },
   "outputs": [
    {
     "name": "stdout",
     "output_type": "stream",
     "text": [
      "[1 2 3 4 5]\n",
      "<class 'numpy.ndarray'>\n",
      "[[1 2 3]\n",
      " [4 5 6]]\n"
     ]
    }
   ],
   "source": [
    "#1D array\n",
    "arr=np.array([1,2,3,4,5])\n",
    "print(arr)\n",
    "\n",
    "print(type(arr))\n",
    "\n",
    "#2D array\n",
    "arr=np.array([[1,2,3],[4,5,6]])\n",
    "print(arr)"
   ]
  },
  {
   "cell_type": "code",
   "execution_count": 31,
   "metadata": {
    "execution": {
     "iopub.execute_input": "2024-01-30T12:02:37.138675Z",
     "iopub.status.busy": "2024-01-30T12:02:37.138367Z",
     "iopub.status.idle": "2024-01-30T12:02:37.147870Z",
     "shell.execute_reply": "2024-01-30T12:02:37.146836Z",
     "shell.execute_reply.started": "2024-01-30T12:02:37.138649Z"
    },
    "trusted": true
   },
   "outputs": [
    {
     "name": "stdout",
     "output_type": "stream",
     "text": [
      "[[[[[10 20 30 40]]]]]\n",
      "number od dimension is: 5\n"
     ]
    }
   ],
   "source": [
    "# Higher dimensional Array\n",
    "arr = np.array([10, 20, 30, 40], ndmin=5)\n",
    "print(arr)\n",
    "print(\"number od dimension is:\",arr.ndim)"
   ]
  },
  {
   "cell_type": "markdown",
   "metadata": {},
   "source": [
    "**Array Slicing**"
   ]
  },
  {
   "cell_type": "code",
   "execution_count": 32,
   "metadata": {
    "execution": {
     "iopub.execute_input": "2024-01-30T12:02:37.150522Z",
     "iopub.status.busy": "2024-01-30T12:02:37.150046Z",
     "iopub.status.idle": "2024-01-30T12:02:37.167350Z",
     "shell.execute_reply": "2024-01-30T12:02:37.166463Z",
     "shell.execute_reply.started": "2024-01-30T12:02:37.150493Z"
    },
    "trusted": true
   },
   "outputs": [
    {
     "name": "stdout",
     "output_type": "stream",
     "text": [
      "2\n",
      "[1 2 3 4 5]\n",
      "[5 6 7 8 9]\n"
     ]
    }
   ],
   "source": [
    "arr = np.array([1,2,3,4,5,6,7,8,9,0])\n",
    "print(arr[1]) # by indexing \n",
    "print(arr[0:5])\n",
    "print(arr[-6:-1])"
   ]
  },
  {
   "cell_type": "markdown",
   "metadata": {},
   "source": [
    "**NumPy Function:**\n",
    "\n",
    "insert() : insert values at a given place"
   ]
  },
  {
   "cell_type": "code",
   "execution_count": 33,
   "metadata": {
    "execution": {
     "iopub.execute_input": "2024-01-30T12:02:37.169113Z",
     "iopub.status.busy": "2024-01-30T12:02:37.168587Z",
     "iopub.status.idle": "2024-01-30T12:02:37.181006Z",
     "shell.execute_reply": "2024-01-30T12:02:37.179826Z",
     "shell.execute_reply.started": "2024-01-30T12:02:37.169084Z"
    },
    "trusted": true
   },
   "outputs": [
    {
     "name": "stdout",
     "output_type": "stream",
     "text": [
      "[100   1   2   3   4   5   6   7   8   9   0]\n"
     ]
    }
   ],
   "source": [
    "a= np.insert(arr,0,100)\n",
    "print(a)"
   ]
  },
  {
   "cell_type": "code",
   "execution_count": 34,
   "metadata": {
    "execution": {
     "iopub.execute_input": "2024-01-30T12:02:37.183015Z",
     "iopub.status.busy": "2024-01-30T12:02:37.182427Z",
     "iopub.status.idle": "2024-01-30T12:02:37.193815Z",
     "shell.execute_reply": "2024-01-30T12:02:37.192739Z",
     "shell.execute_reply.started": "2024-01-30T12:02:37.182955Z"
    },
    "trusted": true
   },
   "outputs": [
    {
     "name": "stdout",
     "output_type": "stream",
     "text": [
      "int64\n"
     ]
    }
   ],
   "source": [
    "#Numpy data types:\n",
    "print(arr.dtype)"
   ]
  },
  {
   "cell_type": "markdown",
   "metadata": {},
   "source": [
    "**Copy:** Copy creates a new array, independent of the original, while view merely represents the original array. Copies are separate, preserving data isolation, while views share data, causing changes in one to impact the other"
   ]
  },
  {
   "cell_type": "code",
   "execution_count": 35,
   "metadata": {
    "execution": {
     "iopub.execute_input": "2024-01-30T12:02:37.195810Z",
     "iopub.status.busy": "2024-01-30T12:02:37.195117Z",
     "iopub.status.idle": "2024-01-30T12:02:37.207723Z",
     "shell.execute_reply": "2024-01-30T12:02:37.206667Z",
     "shell.execute_reply.started": "2024-01-30T12:02:37.195780Z"
    },
    "trusted": true
   },
   "outputs": [
    {
     "name": "stdout",
     "output_type": "stream",
     "text": [
      "[100   2   3   4   5   6   7   8   9   0]\n",
      "[1 2 3 4 5 6 7 8 9 0]\n"
     ]
    }
   ],
   "source": [
    "x = arr.copy()\n",
    "arr[0] = 100\n",
    "\n",
    "print(arr)\n",
    "print(x)"
   ]
  },
  {
   "cell_type": "markdown",
   "metadata": {},
   "source": [
    "**NumPy Array Iterating**"
   ]
  },
  {
   "cell_type": "code",
   "execution_count": 37,
   "metadata": {
    "execution": {
     "iopub.execute_input": "2024-01-30T12:04:47.446094Z",
     "iopub.status.busy": "2024-01-30T12:04:47.445677Z",
     "iopub.status.idle": "2024-01-30T12:04:47.453084Z",
     "shell.execute_reply": "2024-01-30T12:04:47.451924Z",
     "shell.execute_reply.started": "2024-01-30T12:04:47.446063Z"
    },
    "trusted": true
   },
   "outputs": [
    {
     "name": "stdout",
     "output_type": "stream",
     "text": [
      "[1 2 3]\n",
      "[4 5 6]\n"
     ]
    }
   ],
   "source": [
    "x=np.array([[1,2,3],[4,5,6]])\n",
    "for i in x:\n",
    "    print(i)"
   ]
  },
  {
   "cell_type": "markdown",
   "metadata": {},
   "source": [
    "**Joining NumPy Arrays**"
   ]
  },
  {
   "cell_type": "code",
   "execution_count": 41,
   "metadata": {
    "execution": {
     "iopub.execute_input": "2024-01-30T12:07:22.097018Z",
     "iopub.status.busy": "2024-01-30T12:07:22.096069Z",
     "iopub.status.idle": "2024-01-30T12:07:22.105875Z",
     "shell.execute_reply": "2024-01-30T12:07:22.104292Z",
     "shell.execute_reply.started": "2024-01-30T12:07:22.096959Z"
    },
    "trusted": true
   },
   "outputs": [
    {
     "data": {
      "text/plain": [
       "array([1, 2, 3, 4, 5, 6])"
      ]
     },
     "execution_count": 41,
     "metadata": {},
     "output_type": "execute_result"
    }
   ],
   "source": [
    "a1 = np.array([1,2,3])\n",
    "a2 = np.array([4,5,6])\n",
    "arr = np.concatenate((a1,a2))\n",
    "arr"
   ]
  },
  {
   "cell_type": "code",
   "execution_count": 49,
   "metadata": {
    "execution": {
     "iopub.execute_input": "2024-01-30T12:11:35.809107Z",
     "iopub.status.busy": "2024-01-30T12:11:35.808553Z",
     "iopub.status.idle": "2024-01-30T12:11:35.817411Z",
     "shell.execute_reply": "2024-01-30T12:11:35.816211Z",
     "shell.execute_reply.started": "2024-01-30T12:11:35.809065Z"
    },
    "trusted": true
   },
   "outputs": [
    {
     "name": "stdout",
     "output_type": "stream",
     "text": [
      "[[10 40]\n",
      " [20 50]\n",
      " [30 60]]\n"
     ]
    }
   ],
   "source": [
    "arr1 = np.array([10, 20, 30])\n",
    "arr2 = np.array([40, 50, 60])\n",
    "\n",
    "# Stack arr1 and arr2 horizontally along the second axis (axis=1)\n",
    "arr = np.stack((arr1, arr2), axis=1)\n",
    "\n",
    "# Print the resulting array\n",
    "print(arr)"
   ]
  },
  {
   "cell_type": "markdown",
   "metadata": {},
   "source": [
    "**Splitting the array**"
   ]
  },
  {
   "cell_type": "code",
   "execution_count": 52,
   "metadata": {
    "execution": {
     "iopub.execute_input": "2024-01-30T12:13:42.596424Z",
     "iopub.status.busy": "2024-01-30T12:13:42.596030Z",
     "iopub.status.idle": "2024-01-30T12:13:42.601321Z",
     "shell.execute_reply": "2024-01-30T12:13:42.600551Z",
     "shell.execute_reply.started": "2024-01-30T12:13:42.596396Z"
    },
    "trusted": true
   },
   "outputs": [
    {
     "name": "stdout",
     "output_type": "stream",
     "text": [
      "[array([1, 2]), array([3, 4]), array([5, 6])]\n"
     ]
    }
   ],
   "source": [
    "arr = np.array([1, 2, 3, 4, 5, 6])\n",
    "new = np.array_split(arr, 3)\n",
    "print(new)"
   ]
  },
  {
   "cell_type": "markdown",
   "metadata": {},
   "source": [
    "**Searching Array**"
   ]
  },
  {
   "cell_type": "code",
   "execution_count": 54,
   "metadata": {
    "execution": {
     "iopub.execute_input": "2024-01-30T12:16:10.953428Z",
     "iopub.status.busy": "2024-01-30T12:16:10.953058Z",
     "iopub.status.idle": "2024-01-30T12:16:10.960642Z",
     "shell.execute_reply": "2024-01-30T12:16:10.959461Z",
     "shell.execute_reply.started": "2024-01-30T12:16:10.953402Z"
    },
    "trusted": true
   },
   "outputs": [
    {
     "name": "stdout",
     "output_type": "stream",
     "text": [
      "(array([], dtype=int64),)\n",
      "(array([0, 1, 2, 3, 6]),)\n",
      "(array([4, 5]),)\n"
     ]
    }
   ],
   "source": [
    "arr = np.array([10, 20, 30, 40, 55, 45, 4])\n",
    "x = np.where(arr == 5)\n",
    "y = np.where(arr%2 == 0)\n",
    "z = np.where(arr%2 == 1)\n",
    "print(x)\n",
    "print(y)\n",
    "print(z)"
   ]
  },
  {
   "cell_type": "markdown",
   "metadata": {},
   "source": [
    "**Sorting**"
   ]
  },
  {
   "cell_type": "code",
   "execution_count": 56,
   "metadata": {
    "execution": {
     "iopub.execute_input": "2024-01-30T12:17:52.104158Z",
     "iopub.status.busy": "2024-01-30T12:17:52.103777Z",
     "iopub.status.idle": "2024-01-30T12:17:52.110801Z",
     "shell.execute_reply": "2024-01-30T12:17:52.110000Z",
     "shell.execute_reply.started": "2024-01-30T12:17:52.104131Z"
    },
    "trusted": true
   },
   "outputs": [
    {
     "name": "stdout",
     "output_type": "stream",
     "text": [
      "['apple' 'banana' 'cherry' 'orange']\n",
      "[-1  0  1  2  3]\n"
     ]
    }
   ],
   "source": [
    "arr1= np.array([3, 2, 0, 1,-1])\n",
    "arr2= np.array(['banana', 'cherry', 'apple',\"orange\"])\n",
    "\n",
    "print(np.sort(arr2))\n",
    "print(np.sort(arr1))"
   ]
  },
  {
   "cell_type": "markdown",
   "metadata": {},
   "source": [
    "**Filter**"
   ]
  },
  {
   "cell_type": "code",
   "execution_count": 57,
   "metadata": {
    "execution": {
     "iopub.execute_input": "2024-01-30T12:18:41.801563Z",
     "iopub.status.busy": "2024-01-30T12:18:41.801152Z",
     "iopub.status.idle": "2024-01-30T12:18:41.808172Z",
     "shell.execute_reply": "2024-01-30T12:18:41.807154Z",
     "shell.execute_reply.started": "2024-01-30T12:18:41.801531Z"
    },
    "trusted": true
   },
   "outputs": [
    {
     "name": "stdout",
     "output_type": "stream",
     "text": [
      "[41 40 43]\n"
     ]
    }
   ],
   "source": [
    "arr = np.array([41, 40, 42, 43, 44])\n",
    "\n",
    "x = [True, True, False, True, False]\n",
    "\n",
    "newarr = arr[x]\n",
    "\n",
    "print(newarr)"
   ]
  },
  {
   "cell_type": "code",
   "execution_count": null,
   "metadata": {},
   "outputs": [],
   "source": []
  }
 ],
 "metadata": {
  "kaggle": {
   "accelerator": "none",
   "dataSources": [],
   "dockerImageVersionId": 30646,
   "isGpuEnabled": false,
   "isInternetEnabled": true,
   "language": "python",
   "sourceType": "notebook"
  },
  "kernelspec": {
   "display_name": "Python 3",
   "language": "python",
   "name": "python3"
  },
  "language_info": {
   "codemirror_mode": {
    "name": "ipython",
    "version": 3
   },
   "file_extension": ".py",
   "mimetype": "text/x-python",
   "name": "python",
   "nbconvert_exporter": "python",
   "pygments_lexer": "ipython3",
   "version": "3.10.13"
  }
 },
 "nbformat": 4,
 "nbformat_minor": 4
}
