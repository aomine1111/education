{
 "cells": [
  {
   "cell_type": "markdown",
   "metadata": {},
   "source": [
    "**Python Decision Making**\n",
    "by Punith V T"
   ]
  },
  {
   "cell_type": "markdown",
   "metadata": {},
   "source": [
    "345354"
   ]
  },
  {
   "cell_type": "code",
   "execution_count": null,
   "metadata": {},
   "outputs": [],
   "source": [
    "45435"
   ]
  },
  {
   "cell_type": "markdown",
   "metadata": {},
   "source": [
    "**If else Statement**"
   ]
  },
  {
   "cell_type": "code",
   "execution_count": null,
   "metadata": {
    "execution": {
     "iopub.execute_input": "2024-01-25T16:36:04.945570Z",
     "iopub.status.busy": "2024-01-25T16:36:04.944880Z",
     "iopub.status.idle": "2024-01-25T16:36:04.952326Z",
     "shell.execute_reply": "2024-01-25T16:36:04.950896Z",
     "shell.execute_reply.started": "2024-01-25T16:36:04.945537Z"
    },
    "trusted": true
   },
   "outputs": [
    {
     "name": "stdout",
     "output_type": "stream",
     "text": [
      "Greater then zero\n"
     ]
    }
   ],
   "source": [
    "num = 10\n",
    "if num > 0:\n",
    "    print(\"Greater then zero\")\n",
    "else:\n",
    "    print(\"Less then Zero\")"
   ]
  },
  {
   "cell_type": "markdown",
   "metadata": {},
   "source": [
    "**if elseif else statement**"
   ]
  },
  {
   "cell_type": "code",
   "execution_count": 3,
   "metadata": {
    "execution": {
     "iopub.execute_input": "2024-01-25T16:41:48.170943Z",
     "iopub.status.busy": "2024-01-25T16:41:48.170464Z",
     "iopub.status.idle": "2024-01-25T16:41:48.178275Z",
     "shell.execute_reply": "2024-01-25T16:41:48.176804Z",
     "shell.execute_reply.started": "2024-01-25T16:41:48.170907Z"
    },
    "trusted": true
   },
   "outputs": [
    {
     "name": "stdout",
     "output_type": "stream",
     "text": [
      "Number is positive\n"
     ]
    }
   ],
   "source": [
    "a=10\n",
    "b=0\n",
    "if a>b:\n",
    "    print(\"Number is positive\")\n",
    "elif a==b:\n",
    "    print(\"Number is equal\")\n",
    "else:\n",
    "    print(\"Number is Negitive\")\n",
    "    "
   ]
  },
  {
   "cell_type": "markdown",
   "metadata": {},
   "source": [
    "**Nested if loops**"
   ]
  },
  {
   "cell_type": "code",
   "execution_count": 5,
   "metadata": {
    "execution": {
     "iopub.execute_input": "2024-01-25T16:45:48.955186Z",
     "iopub.status.busy": "2024-01-25T16:45:48.954749Z",
     "iopub.status.idle": "2024-01-25T16:45:48.963329Z",
     "shell.execute_reply": "2024-01-25T16:45:48.961602Z",
     "shell.execute_reply.started": "2024-01-25T16:45:48.955154Z"
    },
    "trusted": true
   },
   "outputs": [
    {
     "name": "stdout",
     "output_type": "stream",
     "text": [
      "number is 10\n"
     ]
    }
   ],
   "source": [
    "num=10\n",
    "if(num>=0):\n",
    "    if num ==10:\n",
    "        print(\"number is 10\")\n",
    "    else:\n",
    "        print(\"number is positive\")\n",
    "else:\n",
    "    print(\"number is negitive\")"
   ]
  },
  {
   "cell_type": "markdown",
   "metadata": {},
   "source": [
    "* Loop are used to repeat the block of code\n",
    "* For Eg: If you want to display a message 1000 times, then we use a loop ."
   ]
  },
  {
   "cell_type": "markdown",
   "metadata": {},
   "source": [
    "**For Loop**"
   ]
  },
  {
   "cell_type": "code",
   "execution_count": 6,
   "metadata": {
    "execution": {
     "iopub.execute_input": "2024-01-25T16:48:05.534385Z",
     "iopub.status.busy": "2024-01-25T16:48:05.533760Z",
     "iopub.status.idle": "2024-01-25T16:48:05.543860Z",
     "shell.execute_reply": "2024-01-25T16:48:05.542443Z",
     "shell.execute_reply.started": "2024-01-25T16:48:05.534345Z"
    },
    "trusted": true
   },
   "outputs": [
    {
     "name": "stdout",
     "output_type": "stream",
     "text": [
      "0\n",
      "1\n",
      "2\n",
      "3\n",
      "4\n"
     ]
    }
   ],
   "source": [
    "for i in range(0,5): # iterate from i = 0 to i = 4\n",
    "    print(i)"
   ]
  },
  {
   "cell_type": "markdown",
   "metadata": {},
   "source": [
    "**For loop with else**"
   ]
  },
  {
   "cell_type": "code",
   "execution_count": 7,
   "metadata": {
    "execution": {
     "iopub.execute_input": "2024-01-25T16:52:21.674892Z",
     "iopub.status.busy": "2024-01-25T16:52:21.674376Z",
     "iopub.status.idle": "2024-01-25T16:52:21.682741Z",
     "shell.execute_reply": "2024-01-25T16:52:21.680911Z",
     "shell.execute_reply.started": "2024-01-25T16:52:21.674854Z"
    },
    "trusted": true
   },
   "outputs": [
    {
     "name": "stdout",
     "output_type": "stream",
     "text": [
      "0\n",
      "1\n",
      "2\n",
      "exit\n"
     ]
    }
   ],
   "source": [
    "sample = [0,1,2]\n",
    "for i in sample:\n",
    "    print(i)\n",
    "else:\n",
    "    print(\"exit\")"
   ]
  },
  {
   "cell_type": "markdown",
   "metadata": {},
   "source": [
    "**While loop**"
   ]
  },
  {
   "cell_type": "code",
   "execution_count": 9,
   "metadata": {
    "execution": {
     "iopub.execute_input": "2024-01-25T16:54:30.059331Z",
     "iopub.status.busy": "2024-01-25T16:54:30.058925Z",
     "iopub.status.idle": "2024-01-25T16:54:30.064947Z",
     "shell.execute_reply": "2024-01-25T16:54:30.064084Z",
     "shell.execute_reply.started": "2024-01-25T16:54:30.059300Z"
    },
    "trusted": true
   },
   "outputs": [
    {
     "name": "stdout",
     "output_type": "stream",
     "text": [
      "5\n",
      "6\n",
      "7\n",
      "8\n",
      "9\n",
      "10\n"
     ]
    }
   ],
   "source": [
    "i=5\n",
    "n=10\n",
    "while i<=n:\n",
    "    print(i)\n",
    "    i=i+1\n",
    "    "
   ]
  },
  {
   "cell_type": "markdown",
   "metadata": {},
   "source": [
    "**Infinite while loop**"
   ]
  },
  {
   "cell_type": "code",
   "execution_count": 11,
   "metadata": {
    "execution": {
     "iopub.execute_input": "2024-01-25T16:55:59.251144Z",
     "iopub.status.busy": "2024-01-25T16:55:59.249889Z",
     "iopub.status.idle": "2024-01-25T16:55:59.255946Z",
     "shell.execute_reply": "2024-01-25T16:55:59.254902Z",
     "shell.execute_reply.started": "2024-01-25T16:55:59.251088Z"
    },
    "trusted": true
   },
   "outputs": [],
   "source": [
    "age =38\n",
    "while age <18:\n",
    "    print(\"You can vote\")"
   ]
  },
  {
   "cell_type": "markdown",
   "metadata": {},
   "source": [
    "**While loop with else**"
   ]
  },
  {
   "cell_type": "code",
   "execution_count": 12,
   "metadata": {
    "execution": {
     "iopub.execute_input": "2024-01-25T16:58:27.304600Z",
     "iopub.status.busy": "2024-01-25T16:58:27.303447Z",
     "iopub.status.idle": "2024-01-25T16:58:27.310216Z",
     "shell.execute_reply": "2024-01-25T16:58:27.309130Z",
     "shell.execute_reply.started": "2024-01-25T16:58:27.304559Z"
    },
    "trusted": true
   },
   "outputs": [
    {
     "name": "stdout",
     "output_type": "stream",
     "text": [
      "Ok\n",
      "Ok\n",
      "Not OK\n"
     ]
    }
   ],
   "source": [
    "num =0\n",
    "while num<2:\n",
    "    print(\"Ok\")\n",
    "    num+=1\n",
    "else:\n",
    "    print(\"Not OK\")"
   ]
  },
  {
   "cell_type": "markdown",
   "metadata": {},
   "source": [
    "* Break statement is used to terminate the loop immediately when it is encountered"
   ]
  },
  {
   "cell_type": "markdown",
   "metadata": {},
   "source": [
    "**Break Statement**"
   ]
  },
  {
   "cell_type": "code",
   "execution_count": 13,
   "metadata": {
    "execution": {
     "iopub.execute_input": "2024-01-25T17:01:20.718866Z",
     "iopub.status.busy": "2024-01-25T17:01:20.718352Z",
     "iopub.status.idle": "2024-01-25T17:01:20.726156Z",
     "shell.execute_reply": "2024-01-25T17:01:20.724763Z",
     "shell.execute_reply.started": "2024-01-25T17:01:20.718810Z"
    },
    "trusted": true
   },
   "outputs": [
    {
     "name": "stdout",
     "output_type": "stream",
     "text": [
      "1\n",
      "2\n",
      "3\n",
      "4\n"
     ]
    }
   ],
   "source": [
    "n=5\n",
    "for i in range(1,10):\n",
    "    if i==n:\n",
    "        break #terminate the loop\n",
    "    print(i)"
   ]
  },
  {
   "cell_type": "markdown",
   "metadata": {},
   "source": [
    "**Continue Statement**"
   ]
  },
  {
   "cell_type": "code",
   "execution_count": 14,
   "metadata": {
    "execution": {
     "iopub.execute_input": "2024-01-25T17:03:03.149618Z",
     "iopub.status.busy": "2024-01-25T17:03:03.149176Z",
     "iopub.status.idle": "2024-01-25T17:03:03.156365Z",
     "shell.execute_reply": "2024-01-25T17:03:03.155196Z",
     "shell.execute_reply.started": "2024-01-25T17:03:03.149586Z"
    },
    "trusted": true
   },
   "outputs": [
    {
     "name": "stdout",
     "output_type": "stream",
     "text": [
      "1\n",
      "2\n",
      "3\n",
      "4\n",
      "6\n",
      "7\n"
     ]
    }
   ],
   "source": [
    "n=5\n",
    "for i in range(1,8):\n",
    "    if i==n:\n",
    "        continue #it skip the current iteration \n",
    "    print(i)"
   ]
  },
  {
   "cell_type": "code",
   "execution_count": null,
   "metadata": {},
   "outputs": [],
   "source": []
  }
 ],
 "metadata": {
  "kaggle": {
   "accelerator": "none",
   "dataSources": [],
   "dockerImageVersionId": 30635,
   "isGpuEnabled": false,
   "isInternetEnabled": false,
   "language": "python",
   "sourceType": "notebook"
  },
  "kernelspec": {
   "display_name": "Python 3",
   "language": "python",
   "name": "python3"
  },
  "language_info": {
   "codemirror_mode": {
    "name": "ipython",
    "version": 3
   },
   "file_extension": ".py",
   "mimetype": "text/x-python",
   "name": "python",
   "nbconvert_exporter": "python",
   "pygments_lexer": "ipython3",
   "version": "3.10.12"
  }
 },
 "nbformat": 4,
 "nbformat_minor": 4
}
